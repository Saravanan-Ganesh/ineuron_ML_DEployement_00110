{
 "cells": [
  {
   "cell_type": "markdown",
   "metadata": {},
   "source": [
    "#  Assignment 2 - Task 1:"
   ]
  },
  {
   "cell_type": "markdown",
   "metadata": {},
   "source": [
    "1.1 Write a Python Program to implement your own myreduce() function which works exactly like\n",
    "Python's built-in function reduce()\n"
   ]
  },
  {
   "cell_type": "code",
   "execution_count": 1,
   "metadata": {},
   "outputs": [
    {
     "data": {
      "text/plain": [
       "24"
      ]
     },
     "execution_count": 1,
     "metadata": {},
     "output_type": "execute_result"
    }
   ],
   "source": [
    "# myreduce()\n",
    "product = 1\n",
    "list = [1, 2, 3, 4]\n",
    "for num in list:\n",
    "    product = product * num\n",
    "product"
   ]
  },
  {
   "cell_type": "markdown",
   "metadata": {},
   "source": [
    "1.2 Write a Python program to implement your own myfilter() function which works exactly like\n",
    "Python's built-in function filter()"
   ]
  },
  {
   "cell_type": "code",
   "execution_count": 2,
   "metadata": {},
   "outputs": [
    {
     "name": "stdout",
     "output_type": "stream",
     "text": [
      "-5\n",
      "-4\n",
      "-3\n",
      "-2\n",
      "-1\n"
     ]
    }
   ],
   "source": [
    "# myfilter()\n",
    "number_list = range(-5,5)\n",
    "for i in number_list:\n",
    "    if i < 0:\n",
    "        print(i)\n"
   ]
  },
  {
   "cell_type": "markdown",
   "metadata": {},
   "source": [
    "3. Implement a function longestWord() that takes a list of words and returns the longest one."
   ]
  },
  {
   "cell_type": "code",
   "execution_count": 5,
   "metadata": {},
   "outputs": [
    {
     "data": {
      "text/plain": [
       "'qwertyuiop'"
      ]
     },
     "execution_count": 5,
     "metadata": {},
     "output_type": "execute_result"
    }
   ],
   "source": [
    "def longestWord(wordlist):\n",
    "    longWord = \"\"\n",
    "    max_len = 0\n",
    "    for word in wordlist:\n",
    "        if len(word) > max_len:\n",
    "            longWord = len(word)\n",
    "            longWord = word\n",
    "    return longWord\n",
    "\n",
    "longestWord([\"Saravanan\",\"ganesh\",\"qwertyuiop\"])"
   ]
  },
  {
   "cell_type": "markdown",
   "metadata": {},
   "source": [
    "# Task 2;\n"
   ]
  },
  {
   "cell_type": "markdown",
   "metadata": {},
   "source": [
    "1.1 Write a Python Program(with class concepts) to find the area of the triangle using the below\n",
    "formula.\n",
    "area = (s*(s-a)*(s-b)*(s-c)) ** 0.5\n",
    "\n",
    "Function to take the length of the sides of triangle from user should be defined in the parent\n",
    "class and function to calculate the area should be defined in subclass.\n"
   ]
  },
  {
   "cell_type": "code",
   "execution_count": 7,
   "metadata": {},
   "outputs": [
    {
     "name": "stdout",
     "output_type": "stream",
     "text": [
      "Enter the length of side A: 10\n",
      "Enter the length of side B: 20\n",
      "Enter the length of side C: 30\n",
      "Area of rectangle: 30.0\n"
     ]
    }
   ],
   "source": [
    "class Triangle:\n",
    "    def __init__(self,a,b,c):\n",
    "        self.a = a\n",
    "        self.b = b\n",
    "        self.c = c\n",
    "    def area1(self):\n",
    "        return((self.a + self.b + self.c) / 2)\n",
    "        \n",
    "        \n",
    "a = float(input(\"Enter the length of side A: \"))\n",
    "b = float(input(\"Enter the length of side B: \"))\n",
    "c = float(input(\"Enter the length of side C: \"))\n",
    "obj = Triangle(a,b,c)\n",
    "print(\"Area of rectangle:\",obj.area1())"
   ]
  },
  {
   "cell_type": "markdown",
   "metadata": {},
   "source": [
    "1.2 Write a function filter_long_words() that takes a list of words and an integer n and returns the list\n",
    "of words that are longer than n."
   ]
  },
  {
   "cell_type": "code",
   "execution_count": 11,
   "metadata": {},
   "outputs": [
    {
     "name": "stdout",
     "output_type": "stream",
     "text": [
      "Please input the list of words: saravanan ganesh qwertyuiop\n",
      "Please input an integer: 3\n",
      "['saravanan', 'ganesh', 'qwertyuiop']\n",
      "None\n"
     ]
    }
   ],
   "source": [
    "def filter_long_words(text,number):\n",
    "    listwords = []\n",
    "    for i in range(len(text)):\n",
    "        if len(text[i]) > number:\n",
    "            listwords.append(text[i])\n",
    "    print(listwords)\n",
    "def main():\n",
    "    text = input(\"Please input the list of words: \").split()\n",
    "    number = int(input(\"Please input an integer: \"))\n",
    "    filtered_words = filter_long_words(text,number)\n",
    "    print(filtered_words)\n",
    "main()"
   ]
  },
  {
   "cell_type": "markdown",
   "metadata": {},
   "source": [
    "2.1  Write a Python program using function concept that maps list of words into a list of integers\n",
    "representing the lengths of the corresponding words"
   ]
  },
  {
   "cell_type": "code",
   "execution_count": 12,
   "metadata": {},
   "outputs": [
    {
     "name": "stdout",
     "output_type": "stream",
     "text": [
      "enter the wordssaravanan ganesh\n",
      "[9, 6]\n",
      "None\n"
     ]
    }
   ],
   "source": [
    "def words_length(words):\n",
    "    lengths = []\n",
    "    for word in words:\n",
    "        lengths.append(len(word))\n",
    "    print(lengths)\n",
    "    \n",
    "words = input(\"enter the words : \").split()\n",
    "print(words_length(words))"
   ]
  },
  {
   "cell_type": "markdown",
   "metadata": {},
   "source": [
    "2.2  Write a Python function which takes a character (i.e. a string of length 1) and returns True if it is\n",
    "a vowel, False otherwise"
   ]
  },
  {
   "cell_type": "code",
   "execution_count": 18,
   "metadata": {},
   "outputs": [
    {
     "name": "stdout",
     "output_type": "stream",
     "text": [
      "u --> is a vowel\n",
      "p --> is not a vowel\n"
     ]
    }
   ],
   "source": [
    "def is_vowel(char):\n",
    "    vowels = 'aeiou'\n",
    "\n",
    "    if char in vowels:\n",
    "        print(char,\"--> is a vowel\")\n",
    "    else:\n",
    "        print (char,\"--> is not a vowel\")\n",
    "\n",
    "a = is_vowel(\"u\")\n",
    "b = is_vowel(\"p\")"
   ]
  },
  {
   "cell_type": "code",
   "execution_count": null,
   "metadata": {},
   "outputs": [],
   "source": []
  }
 ],
 "metadata": {
  "kernelspec": {
   "display_name": "Python 3",
   "language": "python",
   "name": "python3"
  },
  "language_info": {
   "codemirror_mode": {
    "name": "ipython",
    "version": 3
   },
   "file_extension": ".py",
   "mimetype": "text/x-python",
   "name": "python",
   "nbconvert_exporter": "python",
   "pygments_lexer": "ipython3",
   "version": "3.7.4"
  }
 },
 "nbformat": 4,
 "nbformat_minor": 2
}
